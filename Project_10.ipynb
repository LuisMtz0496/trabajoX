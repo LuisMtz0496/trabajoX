{
 "cells": [
  {
   "cell_type": "markdown",
   "metadata": {},
   "source": [
    "# Proyecto Sprint 10"
   ]
  },
  {
   "cell_type": "markdown",
   "metadata": {},
   "source": [
    "## Introducción\n",
    "\n",
    "En este proyecto se realiza la creación de un modelo que logre predecir si un cliente dejará el banco Beta Bank y se tratara de obtener un máximo valor F1 posible, de al menos 0.59.\n",
    "\n",
    "También se procesarán los datos para lidiar con los problemas de datos contenían características categóricas, desequilibrio de clases y se evaluara el rendimiento del modelo mediante las metricas Recall, Precision, F1 y AUC-ROC."
   ]
  },
  {
   "cell_type": "markdown",
   "metadata": {},
   "source": [
    "## 1.- Descarga y revisión de datos"
   ]
  },
  {
   "cell_type": "code",
   "execution_count": 2,
   "metadata": {},
   "outputs": [],
   "source": [
    "#Importacion de librerias\n",
    "import pandas as pd\n",
    "from sklearn.impute import KNNImputer\n",
    "from sklearn.model_selection import train_test_split\n",
    "from sklearn.ensemble import RandomForestClassifier\n",
    "from sklearn.tree import DecisionTreeClassifier\n",
    "from sklearn.preprocessing import StandardScaler\n",
    "from sklearn.preprocessing import OneHotEncoder\n",
    "from sklearn.metrics import (\n",
    "    accuracy_score,\n",
    "    precision_score,\n",
    "    recall_score,\n",
    "    f1_score,\n",
    "    roc_auc_score,\n",
    "    average_precision_score,\n",
    "    classification_report)\n",
    "from imblearn.under_sampling import RandomUnderSampler\n",
    "from imblearn.over_sampling import SMOTE\n",
    "from sklearn.model_selection import GridSearchCV"
   ]
  },
  {
   "cell_type": "code",
   "execution_count": 5,
   "metadata": {},
   "outputs": [],
   "source": [
    "#Importación de información\n",
    "data = pd.read_csv('Churn.csv')"
   ]
  },
  {
   "cell_type": "code",
   "execution_count": 6,
   "metadata": {},
   "outputs": [
    {
     "name": "stdout",
     "output_type": "stream",
     "text": [
      "<class 'pandas.core.frame.DataFrame'>\n",
      "RangeIndex: 10000 entries, 0 to 9999\n",
      "Data columns (total 14 columns):\n",
      " #   Column           Non-Null Count  Dtype  \n",
      "---  ------           --------------  -----  \n",
      " 0   RowNumber        10000 non-null  int64  \n",
      " 1   CustomerId       10000 non-null  int64  \n",
      " 2   Surname          10000 non-null  object \n",
      " 3   CreditScore      10000 non-null  int64  \n",
      " 4   Geography        10000 non-null  object \n",
      " 5   Gender           10000 non-null  object \n",
      " 6   Age              10000 non-null  int64  \n",
      " 7   Tenure           9091 non-null   float64\n",
      " 8   Balance          10000 non-null  float64\n",
      " 9   NumOfProducts    10000 non-null  int64  \n",
      " 10  HasCrCard        10000 non-null  int64  \n",
      " 11  IsActiveMember   10000 non-null  int64  \n",
      " 12  EstimatedSalary  10000 non-null  float64\n",
      " 13  Exited           10000 non-null  int64  \n",
      "dtypes: float64(3), int64(8), object(3)\n",
      "memory usage: 1.1+ MB\n"
     ]
    },
    {
     "data": {
      "text/plain": [
       "None"
      ]
     },
     "metadata": {},
     "output_type": "display_data"
    },
    {
     "data": {
      "application/vnd.microsoft.datawrangler.viewer.v0+json": {
       "columns": [
        {
         "name": "index",
         "rawType": "object",
         "type": "string"
        },
        {
         "name": "RowNumber",
         "rawType": "float64",
         "type": "float"
        },
        {
         "name": "CustomerId",
         "rawType": "float64",
         "type": "float"
        },
        {
         "name": "CreditScore",
         "rawType": "float64",
         "type": "float"
        },
        {
         "name": "Age",
         "rawType": "float64",
         "type": "float"
        },
        {
         "name": "Tenure",
         "rawType": "float64",
         "type": "float"
        },
        {
         "name": "Balance",
         "rawType": "float64",
         "type": "float"
        },
        {
         "name": "NumOfProducts",
         "rawType": "float64",
         "type": "float"
        },
        {
         "name": "HasCrCard",
         "rawType": "float64",
         "type": "float"
        },
        {
         "name": "IsActiveMember",
         "rawType": "float64",
         "type": "float"
        },
        {
         "name": "EstimatedSalary",
         "rawType": "float64",
         "type": "float"
        },
        {
         "name": "Exited",
         "rawType": "float64",
         "type": "float"
        }
       ],
       "conversionMethod": "pd.DataFrame",
       "ref": "4a32b345-38c3-452a-a12b-a291ecf06e11",
       "rows": [
        [
         "count",
         "10000.0",
         "10000.0",
         "10000.0",
         "10000.0",
         "9091.0",
         "10000.0",
         "10000.0",
         "10000.0",
         "10000.0",
         "10000.0",
         "10000.0"
        ],
        [
         "mean",
         "5000.5",
         "15690940.5694",
         "650.5288",
         "38.9218",
         "4.997690023099769",
         "76485.889288",
         "1.5302",
         "0.7055",
         "0.5151",
         "100090.239881",
         "0.2037"
        ],
        [
         "std",
         "2886.8956799071675",
         "71936.1861227489",
         "96.65329873613035",
         "10.487806451704609",
         "2.894723234821247",
         "62397.405202385955",
         "0.5816543579989906",
         "0.4558404644751333",
         "0.49979692845891893",
         "57510.49281769816",
         "0.4027685839948609"
        ],
        [
         "min",
         "1.0",
         "15565701.0",
         "350.0",
         "18.0",
         "0.0",
         "0.0",
         "1.0",
         "0.0",
         "0.0",
         "11.58",
         "0.0"
        ],
        [
         "25%",
         "2500.75",
         "15628528.25",
         "584.0",
         "32.0",
         "2.0",
         "0.0",
         "1.0",
         "0.0",
         "0.0",
         "51002.11",
         "0.0"
        ],
        [
         "50%",
         "5000.5",
         "15690738.0",
         "652.0",
         "37.0",
         "5.0",
         "97198.54000000001",
         "1.0",
         "1.0",
         "1.0",
         "100193.915",
         "0.0"
        ],
        [
         "75%",
         "7500.25",
         "15753233.75",
         "718.0",
         "44.0",
         "7.0",
         "127644.24",
         "2.0",
         "1.0",
         "1.0",
         "149388.2475",
         "0.0"
        ],
        [
         "max",
         "10000.0",
         "15815690.0",
         "850.0",
         "92.0",
         "10.0",
         "250898.09",
         "4.0",
         "1.0",
         "1.0",
         "199992.48",
         "1.0"
        ]
       ],
       "shape": {
        "columns": 11,
        "rows": 8
       }
      },
      "text/html": [
       "<div>\n",
       "<style scoped>\n",
       "    .dataframe tbody tr th:only-of-type {\n",
       "        vertical-align: middle;\n",
       "    }\n",
       "\n",
       "    .dataframe tbody tr th {\n",
       "        vertical-align: top;\n",
       "    }\n",
       "\n",
       "    .dataframe thead th {\n",
       "        text-align: right;\n",
       "    }\n",
       "</style>\n",
       "<table border=\"1\" class=\"dataframe\">\n",
       "  <thead>\n",
       "    <tr style=\"text-align: right;\">\n",
       "      <th></th>\n",
       "      <th>RowNumber</th>\n",
       "      <th>CustomerId</th>\n",
       "      <th>CreditScore</th>\n",
       "      <th>Age</th>\n",
       "      <th>Tenure</th>\n",
       "      <th>Balance</th>\n",
       "      <th>NumOfProducts</th>\n",
       "      <th>HasCrCard</th>\n",
       "      <th>IsActiveMember</th>\n",
       "      <th>EstimatedSalary</th>\n",
       "      <th>Exited</th>\n",
       "    </tr>\n",
       "  </thead>\n",
       "  <tbody>\n",
       "    <tr>\n",
       "      <th>count</th>\n",
       "      <td>10000.00000</td>\n",
       "      <td>1.000000e+04</td>\n",
       "      <td>10000.000000</td>\n",
       "      <td>10000.000000</td>\n",
       "      <td>9091.000000</td>\n",
       "      <td>10000.000000</td>\n",
       "      <td>10000.000000</td>\n",
       "      <td>10000.00000</td>\n",
       "      <td>10000.000000</td>\n",
       "      <td>10000.000000</td>\n",
       "      <td>10000.000000</td>\n",
       "    </tr>\n",
       "    <tr>\n",
       "      <th>mean</th>\n",
       "      <td>5000.50000</td>\n",
       "      <td>1.569094e+07</td>\n",
       "      <td>650.528800</td>\n",
       "      <td>38.921800</td>\n",
       "      <td>4.997690</td>\n",
       "      <td>76485.889288</td>\n",
       "      <td>1.530200</td>\n",
       "      <td>0.70550</td>\n",
       "      <td>0.515100</td>\n",
       "      <td>100090.239881</td>\n",
       "      <td>0.203700</td>\n",
       "    </tr>\n",
       "    <tr>\n",
       "      <th>std</th>\n",
       "      <td>2886.89568</td>\n",
       "      <td>7.193619e+04</td>\n",
       "      <td>96.653299</td>\n",
       "      <td>10.487806</td>\n",
       "      <td>2.894723</td>\n",
       "      <td>62397.405202</td>\n",
       "      <td>0.581654</td>\n",
       "      <td>0.45584</td>\n",
       "      <td>0.499797</td>\n",
       "      <td>57510.492818</td>\n",
       "      <td>0.402769</td>\n",
       "    </tr>\n",
       "    <tr>\n",
       "      <th>min</th>\n",
       "      <td>1.00000</td>\n",
       "      <td>1.556570e+07</td>\n",
       "      <td>350.000000</td>\n",
       "      <td>18.000000</td>\n",
       "      <td>0.000000</td>\n",
       "      <td>0.000000</td>\n",
       "      <td>1.000000</td>\n",
       "      <td>0.00000</td>\n",
       "      <td>0.000000</td>\n",
       "      <td>11.580000</td>\n",
       "      <td>0.000000</td>\n",
       "    </tr>\n",
       "    <tr>\n",
       "      <th>25%</th>\n",
       "      <td>2500.75000</td>\n",
       "      <td>1.562853e+07</td>\n",
       "      <td>584.000000</td>\n",
       "      <td>32.000000</td>\n",
       "      <td>2.000000</td>\n",
       "      <td>0.000000</td>\n",
       "      <td>1.000000</td>\n",
       "      <td>0.00000</td>\n",
       "      <td>0.000000</td>\n",
       "      <td>51002.110000</td>\n",
       "      <td>0.000000</td>\n",
       "    </tr>\n",
       "    <tr>\n",
       "      <th>50%</th>\n",
       "      <td>5000.50000</td>\n",
       "      <td>1.569074e+07</td>\n",
       "      <td>652.000000</td>\n",
       "      <td>37.000000</td>\n",
       "      <td>5.000000</td>\n",
       "      <td>97198.540000</td>\n",
       "      <td>1.000000</td>\n",
       "      <td>1.00000</td>\n",
       "      <td>1.000000</td>\n",
       "      <td>100193.915000</td>\n",
       "      <td>0.000000</td>\n",
       "    </tr>\n",
       "    <tr>\n",
       "      <th>75%</th>\n",
       "      <td>7500.25000</td>\n",
       "      <td>1.575323e+07</td>\n",
       "      <td>718.000000</td>\n",
       "      <td>44.000000</td>\n",
       "      <td>7.000000</td>\n",
       "      <td>127644.240000</td>\n",
       "      <td>2.000000</td>\n",
       "      <td>1.00000</td>\n",
       "      <td>1.000000</td>\n",
       "      <td>149388.247500</td>\n",
       "      <td>0.000000</td>\n",
       "    </tr>\n",
       "    <tr>\n",
       "      <th>max</th>\n",
       "      <td>10000.00000</td>\n",
       "      <td>1.581569e+07</td>\n",
       "      <td>850.000000</td>\n",
       "      <td>92.000000</td>\n",
       "      <td>10.000000</td>\n",
       "      <td>250898.090000</td>\n",
       "      <td>4.000000</td>\n",
       "      <td>1.00000</td>\n",
       "      <td>1.000000</td>\n",
       "      <td>199992.480000</td>\n",
       "      <td>1.000000</td>\n",
       "    </tr>\n",
       "  </tbody>\n",
       "</table>\n",
       "</div>"
      ],
      "text/plain": [
       "         RowNumber    CustomerId   CreditScore           Age       Tenure  \\\n",
       "count  10000.00000  1.000000e+04  10000.000000  10000.000000  9091.000000   \n",
       "mean    5000.50000  1.569094e+07    650.528800     38.921800     4.997690   \n",
       "std     2886.89568  7.193619e+04     96.653299     10.487806     2.894723   \n",
       "min        1.00000  1.556570e+07    350.000000     18.000000     0.000000   \n",
       "25%     2500.75000  1.562853e+07    584.000000     32.000000     2.000000   \n",
       "50%     5000.50000  1.569074e+07    652.000000     37.000000     5.000000   \n",
       "75%     7500.25000  1.575323e+07    718.000000     44.000000     7.000000   \n",
       "max    10000.00000  1.581569e+07    850.000000     92.000000    10.000000   \n",
       "\n",
       "             Balance  NumOfProducts    HasCrCard  IsActiveMember  \\\n",
       "count   10000.000000   10000.000000  10000.00000    10000.000000   \n",
       "mean    76485.889288       1.530200      0.70550        0.515100   \n",
       "std     62397.405202       0.581654      0.45584        0.499797   \n",
       "min         0.000000       1.000000      0.00000        0.000000   \n",
       "25%         0.000000       1.000000      0.00000        0.000000   \n",
       "50%     97198.540000       1.000000      1.00000        1.000000   \n",
       "75%    127644.240000       2.000000      1.00000        1.000000   \n",
       "max    250898.090000       4.000000      1.00000        1.000000   \n",
       "\n",
       "       EstimatedSalary        Exited  \n",
       "count     10000.000000  10000.000000  \n",
       "mean     100090.239881      0.203700  \n",
       "std       57510.492818      0.402769  \n",
       "min          11.580000      0.000000  \n",
       "25%       51002.110000      0.000000  \n",
       "50%      100193.915000      0.000000  \n",
       "75%      149388.247500      0.000000  \n",
       "max      199992.480000      1.000000  "
      ]
     },
     "metadata": {},
     "output_type": "display_data"
    },
    {
     "data": {
      "text/plain": [
       "RowNumber          0.0000\n",
       "CustomerId         0.0000\n",
       "Surname            0.0000\n",
       "CreditScore        0.0000\n",
       "Geography          0.0000\n",
       "Gender             0.0000\n",
       "Age                0.0000\n",
       "Tenure             0.0909\n",
       "Balance            0.0000\n",
       "NumOfProducts      0.0000\n",
       "HasCrCard          0.0000\n",
       "IsActiveMember     0.0000\n",
       "EstimatedSalary    0.0000\n",
       "Exited             0.0000\n",
       "dtype: float64"
      ]
     },
     "metadata": {},
     "output_type": "display_data"
    }
   ],
   "source": [
    "#Revisamos la información que tenemos, analizamos los tipos de datos que tiene cada columna, valores ausentes.\n",
    "display(\n",
    "    data.info(), #Revisamos el tipo de datos que tenemos, el tamaño del data, las columnas\n",
    "    data.describe(), #Información de nuestros datos\n",
    "    data.isna().mean() #Vemos la % de datos nullos en las columnas\n",
    ")"
   ]
  },
  {
   "cell_type": "markdown",
   "metadata": {},
   "source": [
    "Obtuvimos que tenemos un 9.09 % de valores nulos en la columna \"Ternure\""
   ]
  },
  {
   "cell_type": "markdown",
   "metadata": {},
   "source": [
    "### Imputación de datos\n",
    "\n",
    "Como tenemos valores nulos en nuestros datos, procedemos a imputarlos"
   ]
  },
  {
   "cell_type": "code",
   "execution_count": 7,
   "metadata": {},
   "outputs": [
    {
     "name": "stdout",
     "output_type": "stream",
     "text": [
      "0.0\n"
     ]
    }
   ],
   "source": [
    "#Imputación de datos numericos\n",
    "\n",
    "#Con KNNImputer predecimos los valores faltantes en función de los valores más similares dentro del data set\n",
    "imputer = KNNImputer(n_neighbors=3, weights=\"uniform\") #Creamos el objeto\n",
    "df_imputed = pd.DataFrame(imputer.fit_transform(data[['Tenure']])) #Aplicamos a la columna \"Ternure\"\n",
    "data['Tenure'] = df_imputed #Lo reemplazamos en el dataframe original\n",
    "print(data['Tenure'].isna().mean()) #Revisamos una vez más para ver que ya no haya nulos"
   ]
  },
  {
   "cell_type": "markdown",
   "metadata": {},
   "source": [
    "### Transformación de datos\n"
   ]
  },
  {
   "cell_type": "code",
   "execution_count": 8,
   "metadata": {},
   "outputs": [],
   "source": [
    "#Identificamos nuestras columnas numericas y categoricas\n",
    "num_col = ['RowNumber', 'CustomerId','CreditScore','Age','Tenure','Balance','NumOfProducts','HasCrCard','IsActiveMember','EstimatedSalary']\n",
    "cat_not_ord_col = ['Surname','Geography','Gender']"
   ]
  },
  {
   "cell_type": "markdown",
   "metadata": {},
   "source": [
    "#### Estandarización de datos para datos numericos"
   ]
  },
  {
   "cell_type": "code",
   "execution_count": 9,
   "metadata": {},
   "outputs": [
    {
     "name": "stdout",
     "output_type": "stream",
     "text": [
      "      RowNumber  CustomerId  CreditScore       Age        Tenure   Balance  \\\n",
      "0     -1.731878   -0.783213    -0.326221  0.293517 -1.086170e+00 -1.225848   \n",
      "1     -1.731531   -0.606534    -0.440036  0.198164 -1.448505e+00  0.117350   \n",
      "2     -1.731185   -0.995885    -1.536794  0.293517  1.087844e+00  1.333053   \n",
      "3     -1.730838    0.144767     0.501521  0.007457 -1.448505e+00 -1.225848   \n",
      "4     -1.730492    0.652659     2.063884  0.388871 -1.086170e+00  0.785728   \n",
      "...         ...         ...          ...       ...           ...       ...   \n",
      "9995   1.730492   -1.177652     1.246488  0.007457  8.369869e-04 -1.225848   \n",
      "9996   1.730838   -1.682806    -1.391939 -0.373958  1.812515e+00 -0.306379   \n",
      "9997   1.731185   -1.479282     0.604988 -0.278604  7.255082e-01 -1.225848   \n",
      "9998   1.731531   -0.119356     1.256835  0.293517 -7.238342e-01 -0.022608   \n",
      "9999   1.731878   -0.870559     1.463771 -1.041433 -3.218187e-16  0.859965   \n",
      "\n",
      "      NumOfProducts  HasCrCard  IsActiveMember  EstimatedSalary  \n",
      "0         -0.911583   0.646092        0.970243         0.021886  \n",
      "1         -0.911583  -1.547768        0.970243         0.216534  \n",
      "2          2.527057   0.646092       -1.030670         0.240687  \n",
      "3          0.807737  -1.547768       -1.030670        -0.108918  \n",
      "4         -0.911583   0.646092        0.970243        -0.365276  \n",
      "...             ...        ...             ...              ...  \n",
      "9995       0.807737   0.646092       -1.030670        -0.066419  \n",
      "9996      -0.911583   0.646092        0.970243         0.027988  \n",
      "9997      -0.911583  -1.547768        0.970243        -1.008643  \n",
      "9998       0.807737   0.646092       -1.030670        -0.125231  \n",
      "9999      -0.911583   0.646092       -1.030670        -1.076370  \n",
      "\n",
      "[10000 rows x 10 columns]\n"
     ]
    }
   ],
   "source": [
    "scaler_standard = StandardScaler()\n",
    "data_standard = pd.DataFrame(scaler_standard.fit_transform(data[num_col]), columns=data[num_col].columns)\n",
    "print(data_standard)"
   ]
  },
  {
   "cell_type": "markdown",
   "metadata": {},
   "source": [
    "#### One-Hot Encoding para datos categoricos"
   ]
  },
  {
   "cell_type": "code",
   "execution_count": 10,
   "metadata": {},
   "outputs": [
    {
     "name": "stdout",
     "output_type": "stream",
     "text": [
      "      RowNumber  CustomerId  CreditScore  Age    Tenure    Balance  \\\n",
      "0             1    15634602          619   42   2.00000       0.00   \n",
      "1             2    15647311          608   41   1.00000   83807.86   \n",
      "2             3    15619304          502   42   8.00000  159660.80   \n",
      "3             4    15701354          699   39   1.00000       0.00   \n",
      "4             5    15737888          850   43   2.00000  125510.82   \n",
      "...         ...         ...          ...  ...       ...        ...   \n",
      "9995       9996    15606229          771   39   5.00000       0.00   \n",
      "9996       9997    15569892          516   35  10.00000   57369.61   \n",
      "9997       9998    15584532          709   36   7.00000       0.00   \n",
      "9998       9999    15682355          772   42   3.00000   75075.31   \n",
      "9999      10000    15628319          792   28   4.99769  130142.79   \n",
      "\n",
      "      NumOfProducts  HasCrCard  IsActiveMember  EstimatedSalary  ...  \\\n",
      "0                 1          1               1        101348.88  ...   \n",
      "1                 1          0               1        112542.58  ...   \n",
      "2                 3          1               0        113931.57  ...   \n",
      "3                 2          0               0         93826.63  ...   \n",
      "4                 1          1               1         79084.10  ...   \n",
      "...             ...        ...             ...              ...  ...   \n",
      "9995              2          1               0         96270.64  ...   \n",
      "9996              1          1               1        101699.77  ...   \n",
      "9997              1          0               1         42085.58  ...   \n",
      "9998              2          1               0         92888.52  ...   \n",
      "9999              1          1               0         38190.78  ...   \n",
      "\n",
      "      Surname_Zotova  Surname_Zox  Surname_Zubarev  Surname_Zubareva  \\\n",
      "0                0.0          0.0              0.0               0.0   \n",
      "1                0.0          0.0              0.0               0.0   \n",
      "2                0.0          0.0              0.0               0.0   \n",
      "3                0.0          0.0              0.0               0.0   \n",
      "4                0.0          0.0              0.0               0.0   \n",
      "...              ...          ...              ...               ...   \n",
      "9995             0.0          0.0              0.0               0.0   \n",
      "9996             0.0          0.0              0.0               0.0   \n",
      "9997             0.0          0.0              0.0               0.0   \n",
      "9998             0.0          0.0              0.0               0.0   \n",
      "9999             0.0          0.0              0.0               0.0   \n",
      "\n",
      "      Surname_Zuev  Surname_Zuyev  Surname_Zuyeva  Geography_Germany  \\\n",
      "0              0.0            0.0             0.0                0.0   \n",
      "1              0.0            0.0             0.0                0.0   \n",
      "2              0.0            0.0             0.0                0.0   \n",
      "3              0.0            0.0             0.0                0.0   \n",
      "4              0.0            0.0             0.0                0.0   \n",
      "...            ...            ...             ...                ...   \n",
      "9995           0.0            0.0             0.0                0.0   \n",
      "9996           0.0            0.0             0.0                0.0   \n",
      "9997           0.0            0.0             0.0                0.0   \n",
      "9998           0.0            0.0             0.0                1.0   \n",
      "9999           0.0            0.0             0.0                0.0   \n",
      "\n",
      "      Geography_Spain  Gender_Male  \n",
      "0                 0.0          0.0  \n",
      "1                 1.0          0.0  \n",
      "2                 0.0          0.0  \n",
      "3                 0.0          0.0  \n",
      "4                 1.0          0.0  \n",
      "...               ...          ...  \n",
      "9995              0.0          1.0  \n",
      "9996              0.0          1.0  \n",
      "9997              0.0          0.0  \n",
      "9998              0.0          1.0  \n",
      "9999              0.0          0.0  \n",
      "\n",
      "[10000 rows x 2945 columns]\n"
     ]
    }
   ],
   "source": [
    "# Aplicamos One-Hot Encoding a la columna 'Ciudad'\n",
    "onehot_encoder = OneHotEncoder(sparse_output=False, drop='first')  # `drop='first'` para evitar multicolinealidad\n",
    "data_one_hot = onehot_encoder.fit_transform(data[cat_not_ord_col])\n",
    "\n",
    "# Convertimos la salida en un DataFrame y lo unimos al original\n",
    "data_one_hot = pd.DataFrame(data_one_hot, columns=onehot_encoder.get_feature_names_out(cat_not_ord_col))\n",
    "data_clean = pd.concat([data, data_one_hot], axis=1).drop(columns=cat_not_ord_col)\n",
    "\n",
    "print(data_clean) #Obtenemos un data set listo para analizar pero que sigue desbalanceado"
   ]
  },
  {
   "cell_type": "markdown",
   "metadata": {},
   "source": [
    "## 2.- Examinación del equilibrio de clases"
   ]
  },
  {
   "cell_type": "markdown",
   "metadata": {},
   "source": [
    "#### Revisamos el equilibrio entre clases"
   ]
  },
  {
   "cell_type": "code",
   "execution_count": 11,
   "metadata": {},
   "outputs": [
    {
     "data": {
      "text/plain": [
       "Exited\n",
       "0    0.7963\n",
       "1    0.2037\n",
       "Name: proportion, dtype: float64"
      ]
     },
     "execution_count": 11,
     "metadata": {},
     "output_type": "execute_result"
    }
   ],
   "source": [
    "data_clean['Exited'].value_counts(1)"
   ]
  },
  {
   "cell_type": "markdown",
   "metadata": {},
   "source": [
    "#### Entrenamos un modelo sin estandarizar los datos"
   ]
  },
  {
   "cell_type": "code",
   "execution_count": 12,
   "metadata": {},
   "outputs": [],
   "source": [
    "#MODELO SIN BALANCEAR\n",
    "\n",
    "#Segmentación de datos\n",
    "features = data_clean.drop(['Exited'], axis=1)\n",
    "target = data_clean['Exited']\n",
    "\n",
    "# Dividir los datos en entrenamiento + validación (80%) y prueba (20%)\n",
    "features_train, features_valid, target_train, target_valid = train_test_split(features, target, test_size=0.2, random_state=42)\n",
    "# Modelo en dataset \n",
    "model = RandomForestClassifier()\n",
    "model.fit(features_train, target_train)\n",
    "predict = model.predict(features_valid)\n",
    "y_prob = model.predict_proba(features_valid)[:, 1]"
   ]
  },
  {
   "cell_type": "code",
   "execution_count": 16,
   "metadata": {},
   "outputs": [
    {
     "name": "stdout",
     "output_type": "stream",
     "text": [
      "🔹 Accuracy: 0.86\n",
      "🔹 Precision: 0.79\n",
      "🔹 Recall: 0.36\n",
      "🔹 F1-Score: 0.50\n",
      "🔹 ROC-AUC: 0.85\n",
      "🔹 Average Precision (AP): 0.66\n"
     ]
    }
   ],
   "source": [
    "#Cálculo de métricas\n",
    "accuracy = accuracy_score(target_valid, predict)\n",
    "precision = precision_score(target_valid, predict)\n",
    "recall = recall_score(target_valid, predict)\n",
    "f1 = f1_score(target_valid, predict)\n",
    "roc_auc = roc_auc_score(target_valid, y_prob)\n",
    "average_precision = average_precision_score(target_valid, y_prob)\n",
    "\n",
    "# 📌 Mostramos los valores de las métricas\n",
    "print(f\"🔹 Accuracy: {accuracy:.2f}\")\n",
    "print(f\"🔹 Precision: {precision:.2f}\")\n",
    "print(f\"🔹 Recall: {recall:.2f}\")\n",
    "print(f\"🔹 F1-Score: {f1:.2f}\")\n",
    "print(f\"🔹 ROC-AUC: {roc_auc:.2f}\")\n",
    "print(f\"🔹 Average Precision (AP): {average_precision:.2f}\")"
   ]
  },
  {
   "cell_type": "markdown",
   "metadata": {},
   "source": [
    "### Hallazgos:\n",
    "\n",
    "Accuracy el 85% de las predicciónes coincidieron con la validación.\n",
    "De las respuestas positivas en Precision, obtuvimos que el 81% de las respuestas positivas fue correcta.\n",
    "Con recall obtuvimos que se detectaron un 34% de casos realmente positivos.\n",
    "Hay un balance entre recall y precision de un 48%\n",
    "Tiene una AP de 66% que no esta tan mal"
   ]
  },
  {
   "cell_type": "markdown",
   "metadata": {},
   "source": [
    "## 3.- Mejoración de calidad del modelo"
   ]
  },
  {
   "cell_type": "markdown",
   "metadata": {},
   "source": [
    "#### Equilibrio de clases"
   ]
  },
  {
   "cell_type": "code",
   "execution_count": 17,
   "metadata": {},
   "outputs": [
    {
     "data": {
      "text/plain": [
       "Exited\n",
       "0    0.598818\n",
       "1    0.401182\n",
       "Name: proportion, dtype: float64"
      ]
     },
     "execution_count": 17,
     "metadata": {},
     "output_type": "execute_result"
    }
   ],
   "source": [
    "#Balanceo de datos: Aplicando Undersampling y luego Oversampling\n",
    "undersample = RandomUnderSampler(sampling_strategy=0.3, random_state=42)  # Reducir clase mayoritaria\n",
    "X_under, y_under = undersample.fit_resample(data_clean, data_clean['Exited'])\n",
    "\n",
    "oversample = SMOTE(sampling_strategy=0.67, random_state=42)  # Aumentar clase minoritaria\n",
    "X_resampled, y_resampled = oversample.fit_resample(X_under, y_under)\n",
    "\n",
    "y_resampled.value_counts(1)"
   ]
  },
  {
   "cell_type": "markdown",
   "metadata": {},
   "source": [
    "##### Segmentación de datos balanceados"
   ]
  },
  {
   "cell_type": "code",
   "execution_count": 18,
   "metadata": {},
   "outputs": [],
   "source": [
    "# Dividir los datos en entrenamiento + validación (80%) y prueba (20%)\n",
    "features_train, features_valid, target_train, target_valid = train_test_split(X_resampled, y_resampled, test_size=0.2, random_state=42)"
   ]
  },
  {
   "cell_type": "markdown",
   "metadata": {},
   "source": [
    "### Busqueda de mejor conjunto de parámetros con GridSearchCV"
   ]
  },
  {
   "cell_type": "code",
   "execution_count": 19,
   "metadata": {},
   "outputs": [
    {
     "name": "stdout",
     "output_type": "stream",
     "text": [
      "Mejores hiperparámetros: {'criterion': 'gini', 'max_depth': 3, 'min_samples_split': 2}\n",
      "Reporte de clasificación:\n",
      "              precision    recall  f1-score   support\n",
      "\n",
      "           0       1.00      1.00      1.00      1387\n",
      "           1       1.00      1.00      1.00       881\n",
      "\n",
      "    accuracy                           1.00      2268\n",
      "   macro avg       1.00      1.00      1.00      2268\n",
      "weighted avg       1.00      1.00      1.00      2268\n",
      "\n"
     ]
    }
   ],
   "source": [
    "# Definir el modelo base\n",
    "modelo_dec_tre = DecisionTreeClassifier(random_state=42)\n",
    "\n",
    "# Definir hiperparámetros a evaluar\n",
    "grid_params = {\n",
    "    'max_depth': [3, 5, 10, 15],\n",
    "    'min_samples_split': [2, 5, 10],\n",
    "    'criterion': ['gini', 'entropy']\n",
    "}\n",
    "\n",
    "# Configurar GridSearchCV con la métrica f1-score para datos desbalanceados\n",
    "grid_search = GridSearchCV(modelo_dec_tre, grid_params, scoring='f1', cv=5, n_jobs=-1)\n",
    "grid_search.fit(features_train, target_train)\n",
    "\n",
    "# Mejor modelo y evaluación\n",
    "y_pred = grid_search.best_estimator_.predict(features_valid)\n",
    "print(\"Mejores hiperparámetros:\", grid_search.best_params_)\n",
    "print(\"Reporte de clasificación:\")\n",
    "print(classification_report(target_valid, y_pred))\n"
   ]
  },
  {
   "cell_type": "markdown",
   "metadata": {},
   "source": [
    "## 4.- Prueba final"
   ]
  },
  {
   "cell_type": "code",
   "execution_count": 24,
   "metadata": {},
   "outputs": [],
   "source": [
    "y_prob = grid_search.predict_proba(features_valid)[:, 1]"
   ]
  },
  {
   "cell_type": "code",
   "execution_count": 25,
   "metadata": {},
   "outputs": [
    {
     "name": "stdout",
     "output_type": "stream",
     "text": [
      "🔹 Accuracy: 1.00\n",
      "🔹 ROC-AUC: 1.00\n",
      "🔹 Average Precision (AP): 1.00\n"
     ]
    }
   ],
   "source": [
    "#Cálculo de métricas\n",
    "accuracy = accuracy_score(target_valid, y_pred)\n",
    "roc_auc = roc_auc_score(target_valid, y_prob)\n",
    "average_precision = average_precision_score(target_valid, y_prob)\n",
    "\n",
    "# 📌 Mostramos los valores de las métricas\n",
    "print(f\"🔹 Accuracy: {accuracy:.2f}\")\n",
    "print(f\"🔹 ROC-AUC: {roc_auc:.2f}\")\n",
    "print(f\"🔹 Average Precision (AP): {average_precision:.2f}\")"
   ]
  },
  {
   "cell_type": "markdown",
   "metadata": {},
   "source": [
    "## Conclusión final\n",
    "\n",
    "Para lograr entrenar adecuadamente nuestro modelo, primero hay que preparar los datos, hay que escoger correctamente como vamos a rellenar los valores faltantes, ya que dependiendo de lo que escojamos los datos podrían ser más preciso. En mi caso escogí KNNImputer ya que me parece mejor escoger datos que esten más cerca unos de otros. Después de eso tenemos que transformar los datos para que nuestro modelo no le de más valor a ciertos datos o ciertas columnas por lo que hay que estandarizar los valores numericos y transformar nuestros valores categoricos a etiquetas o valores numericos dependiendo si tienen orden o no las categorias, como niveles escolares y cosas así.\n",
    "\n",
    "Una vez teniendo nuestros datos listos para que el modelo pueda aprender, podemos entrenarlo pero aun así hay que tomar en cuenta el balance de clases, ya que podría aprender mal o interpretar mal los datos en ciertos casos y causando más falsos resultados. Por lo que en ciertas ocaciones hay que disminuir la clase mayoritaria o incrementar la minoritaria.\n",
    "\n",
    "Finalmente cuando entrenamos nuestro modelo balanceado y con los trasnformados hay que tomar en cuenta los parametros de entrenamiento del modelo, ya que dependiendo la combinación de estos puede incrementar la precisión de nuestro modelo."
   ]
  }
 ],
 "metadata": {
  "kernelspec": {
   "display_name": "Python 3",
   "language": "python",
   "name": "python3"
  },
  "language_info": {
   "codemirror_mode": {
    "name": "ipython",
    "version": 3
   },
   "file_extension": ".py",
   "mimetype": "text/x-python",
   "name": "python",
   "nbconvert_exporter": "python",
   "pygments_lexer": "ipython3",
   "version": "3.13.3"
  }
 },
 "nbformat": 4,
 "nbformat_minor": 2
}
